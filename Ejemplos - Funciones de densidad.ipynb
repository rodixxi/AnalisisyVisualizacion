{
 "cells": [
  {
   "cell_type": "markdown",
   "metadata": {},
   "source": [
    "# Calculando la fdp de una variable aleatoria\n",
    "\n",
    "En esta notebook está el código completo de los ejemplos mostrados en las filminas."
   ]
  },
  {
   "cell_type": "code",
   "execution_count": 15,
   "metadata": {
    "collapsed": true
   },
   "outputs": [],
   "source": [
    "%matplotlib inline\n",
    "import itertools\n",
    "import numpy\n",
    "import pandas\n",
    "import seaborn"
   ]
  },
  {
   "cell_type": "code",
   "execution_count": 16,
   "metadata": {},
   "outputs": [
    {
     "data": {
      "text/plain": [
       "['c-c-c', 'c-c-s', 'c-s-c', 'c-s-s', 's-c-c', 's-c-s', 's-s-c', 's-s-s']"
      ]
     },
     "execution_count": 16,
     "metadata": {},
     "output_type": "execute_result"
    }
   ],
   "source": [
    "C, S = 'c', 's'\n",
    "SAMPLE_SPACE = ['-'.join(x) for x in\n",
    "                itertools.product([C, S], repeat=3)]\n",
    "SAMPLE_SPACE"
   ]
  },
  {
   "cell_type": "code",
   "execution_count": 17,
   "metadata": {
    "collapsed": true
   },
   "outputs": [],
   "source": [
    "sampled_values = [\n",
    "    x.count(C) for x in numpy.random.choice(SAMPLE_SPACE, 1000)]"
   ]
  },
  {
   "cell_type": "code",
   "execution_count": 18,
   "metadata": {},
   "outputs": [
    {
     "data": {
      "text/plain": [
       "[(0, 0.121), (1, 0.371), (2, 0.39200000000000002), (3, 0.11600000000000001)]"
      ]
     },
     "execution_count": 18,
     "metadata": {},
     "output_type": "execute_result"
    }
   ],
   "source": [
    "result = numpy.unique(sampled_values, return_counts=True)\n",
    "[(label, count/1000.0) for label, count in zip(*result)]"
   ]
  },
  {
   "cell_type": "code",
   "execution_count": 19,
   "metadata": {},
   "outputs": [
    {
     "data": {
      "image/png": "[encoded data removed]",
      "text/plain": [
       "<matplotlib.figure.Figure at 0x7f2d4afd88d0>"
      ]
     },
     "metadata": {},
     "output_type": "display_data"
    }
   ],
   "source": [
    "seaborn.countplot(sampled_values, color='#2ecc71')\n",
    "seaborn.despine()"
   ]
  },
  {
   "cell_type": "markdown",
   "metadata": {},
   "source": [
    "---\n",
    "## Ahora con datos reales"
   ]
  },
  {
   "cell_type": "code",
   "execution_count": 20,
   "metadata": {},
   "outputs": [
    {
     "data": {
      "text/html": [
       "<div>\n",
       "<table border=\"1\" class=\"dataframe\">\n",
       "  <thead>\n",
       "    <tr style=\"text-align: right;\">\n",
       "      <th></th>\n",
       "      <th>area</th>\n",
       "      <th>organismo_origen</th>\n",
       "      <th>via_acceso</th>\n",
       "      <th>año</th>\n",
       "      <th>provincia</th>\n",
       "      <th>contexto</th>\n",
       "      <th>contexto1</th>\n",
       "      <th>circunstancia</th>\n",
       "      <th>alojamiento</th>\n",
       "      <th>violencia_fisica</th>\n",
       "      <th>violencia_psiquica</th>\n",
       "      <th>violencia_genero</th>\n",
       "      <th>violencia_salud</th>\n",
       "      <th>resumen_hecho</th>\n",
       "      <th>descripcion_institucion</th>\n",
       "      <th>establecimiento</th>\n",
       "      <th>Unnamed: 16</th>\n",
       "    </tr>\n",
       "  </thead>\n",
       "  <tbody>\n",
       "    <tr>\n",
       "      <th>0</th>\n",
       "      <td>DNPCVI</td>\n",
       "      <td>SECRETARIA DE DDHH</td>\n",
       "      <td>Telefónica</td>\n",
       "      <td>2017,00</td>\n",
       "      <td>Buenos Aires</td>\n",
       "      <td>Situaciones de Detención</td>\n",
       "      <td>Penal / Complejo Penitenciario PROVINCIAL</td>\n",
       "      <td>NaN</td>\n",
       "      <td>NaN</td>\n",
       "      <td>NaN</td>\n",
       "      <td>NaN</td>\n",
       "      <td>NaN</td>\n",
       "      <td>Denegación acceso atención médica</td>\n",
       "      <td>NaN</td>\n",
       "      <td>Servicio Penitenciario Provincial</td>\n",
       "      <td>UPP Nº 13 Junin</td>\n",
       "      <td>NaN</td>\n",
       "    </tr>\n",
       "    <tr>\n",
       "      <th>1</th>\n",
       "      <td>DNPCVI</td>\n",
       "      <td>SECRETARIA DE DDHH</td>\n",
       "      <td>Telefónica</td>\n",
       "      <td>2017,00</td>\n",
       "      <td>Buenos Aires</td>\n",
       "      <td>Situaciones de Detención</td>\n",
       "      <td>Penal / Complejo Penitenciario PROVINCIAL</td>\n",
       "      <td>NaN</td>\n",
       "      <td>Malas condiciones de alojamiento (higiene), Hu...</td>\n",
       "      <td>NaN</td>\n",
       "      <td>NaN</td>\n",
       "      <td>NaN</td>\n",
       "      <td>Denegación acceso atención médica</td>\n",
       "      <td>NaN</td>\n",
       "      <td>Servicio Penitenciario Provincial</td>\n",
       "      <td>UPP Nº 13 DE JUNIN</td>\n",
       "      <td>NaN</td>\n",
       "    </tr>\n",
       "    <tr>\n",
       "      <th>2</th>\n",
       "      <td>DNPCVI</td>\n",
       "      <td>SECRETARIA DE DDHH</td>\n",
       "      <td>Telefónica</td>\n",
       "      <td>2017,00</td>\n",
       "      <td>Buenos Aires</td>\n",
       "      <td>Situaciones de Detención</td>\n",
       "      <td>Penal / Complejo Penitenciario PROVINCIAL</td>\n",
       "      <td>NaN</td>\n",
       "      <td>Malas condiciones de alojamiento (higiene)</td>\n",
       "      <td>NaN</td>\n",
       "      <td>NaN</td>\n",
       "      <td>NaN</td>\n",
       "      <td>NaN</td>\n",
       "      <td>NaN</td>\n",
       "      <td>Servicio Penitenciario Provincial</td>\n",
       "      <td>UPP Nº 36 de Magdalena</td>\n",
       "      <td>NaN</td>\n",
       "    </tr>\n",
       "  </tbody>\n",
       "</table>\n",
       "</div>"
      ],
      "text/plain": [
       "     area    organismo_origen  via_acceso      año     provincia  \\\n",
       "0  DNPCVI  SECRETARIA DE DDHH  Telefónica  2017,00  Buenos Aires   \n",
       "1  DNPCVI  SECRETARIA DE DDHH  Telefónica  2017,00  Buenos Aires   \n",
       "2  DNPCVI  SECRETARIA DE DDHH  Telefónica  2017,00  Buenos Aires   \n",
       "\n",
       "                   contexto                                  contexto1  \\\n",
       "0  Situaciones de Detención  Penal / Complejo Penitenciario PROVINCIAL   \n",
       "1  Situaciones de Detención  Penal / Complejo Penitenciario PROVINCIAL   \n",
       "2  Situaciones de Detención  Penal / Complejo Penitenciario PROVINCIAL   \n",
       "\n",
       "  circunstancia                                        alojamiento  \\\n",
       "0           NaN                                                NaN   \n",
       "1           NaN  Malas condiciones de alojamiento (higiene), Hu...   \n",
       "2           NaN         Malas condiciones de alojamiento (higiene)   \n",
       "\n",
       "  violencia_fisica violencia_psiquica violencia_genero  \\\n",
       "0              NaN                NaN              NaN   \n",
       "1              NaN                NaN              NaN   \n",
       "2              NaN                NaN              NaN   \n",
       "\n",
       "                     violencia_salud  resumen_hecho  \\\n",
       "0  Denegación acceso atención médica            NaN   \n",
       "1  Denegación acceso atención médica            NaN   \n",
       "2                                NaN            NaN   \n",
       "\n",
       "             descripcion_institucion         establecimiento  Unnamed: 16  \n",
       "0  Servicio Penitenciario Provincial         UPP Nº 13 Junin          NaN  \n",
       "1  Servicio Penitenciario Provincial      UPP Nº 13 DE JUNIN          NaN  \n",
       "2  Servicio Penitenciario Provincial  UPP Nº 36 de Magdalena          NaN  "
      ]
     },
     "execution_count": 20,
     "metadata": {},
     "output_type": "execute_result"
    }
   ],
   "source": [
    "vinstitucional = pandas.read_csv(\n",
    "    'https://cs.famaf.unc.edu.ar/~mteruel/datasets/diplodatos/violencia-institucional-2018-01.csv',\n",
    "    encoding='utf8')\n",
    "vinstitucional[:3]"
   ]
  },
  {
   "cell_type": "markdown",
   "metadata": {},
   "source": [
    "Una forma de calcular fdps es usando las funciones provistas por **pandas**."
   ]
  },
  {
   "cell_type": "code",
   "execution_count": 21,
   "metadata": {},
   "outputs": [
    {
     "data": {
      "text/plain": [
       "PRONALCI                   0.456189\n",
       "Centro de Denuncias        0.340751\n",
       "DNPCVI                     0.099444\n",
       "Otros                      0.036161\n",
       "Ulloa                      0.021558\n",
       "Juridicos Nacional         0.021558\n",
       "Juridicos Internacional    0.018081\n",
       "Salud Mental               0.006259\n",
       "Name: area, dtype: float64"
      ]
     },
     "execution_count": 21,
     "metadata": {},
     "output_type": "execute_result"
    }
   ],
   "source": [
    "fdps = vinstitucional.area.value_counts(normalize=True)\n",
    "fdps"
   ]
  },
  {
   "cell_type": "code",
   "execution_count": 22,
   "metadata": {},
   "outputs": [
    {
     "data": {
      "image/png": "[encoded data removed]",
      "text/plain": [
       "<matplotlib.figure.Figure at 0x7f2d4b09a810>"
      ]
     },
     "metadata": {},
     "output_type": "display_data"
    }
   ],
   "source": [
    "ax = seaborn.barplot(data=fdps.to_frame().reset_index(),\n",
    "    x='index', y='area', color='#2ecc71')\n",
    "ax.set_xticklabels(ax.get_xticklabels(), rotation=40, ha=\"right\")\n",
    "seaborn.despine()"
   ]
  },
  {
   "cell_type": "markdown",
   "metadata": {},
   "source": [
    "Otra forma, más tradicional es usando **numpy** directamente"
   ]
  },
  {
   "cell_type": "code",
   "execution_count": 23,
   "metadata": {},
   "outputs": [
    {
     "data": {
      "text/plain": [
       "[('Centro de Denuncias', 0.34051424600416957),\n",
       " ('DNPCVI', 0.099374565670604584),\n",
       " ('Juridicos Internacional', 0.018068102849200834),\n",
       " ('Juridicos Nacional', 0.021542738012508687),\n",
       " ('Otros', 0.036136205698401667),\n",
       " ('PRONALCI', 0.45587213342599026),\n",
       " ('Salud Mental', 0.0062543432939541352),\n",
       " ('Ulloa', 0.021542738012508687),\n",
       " ('nan', 0.00069492703266157052)]"
      ]
     },
     "execution_count": 23,
     "metadata": {},
     "output_type": "execute_result"
    }
   ],
   "source": [
    "areas, counts = numpy.unique(vinstitucional.area.values.astype(str),\n",
    "                             return_counts=True)\n",
    "total = counts.sum()\n",
    "fdps = [x/float(counts.sum()) for x in counts]\n",
    "[x for x in zip(areas, fdps)]"
   ]
  },
  {
   "cell_type": "markdown",
   "metadata": {},
   "source": [
    "Para visualizar la distribución obtenida, podemos usar **seaborn** o **matplotlib**"
   ]
  },
  {
   "cell_type": "code",
   "execution_count": 24,
   "metadata": {},
   "outputs": [
    {
     "data": {
      "image/png": "[encoded data removed]",
      "text/plain": [
       "<matplotlib.figure.Figure at 0x7f2d785dc190>"
      ]
     },
     "metadata": {},
     "output_type": "display_data"
    }
   ],
   "source": [
    "ax = seaborn.barplot(x=areas, y=fdps, color='green')\n",
    "ax.set_xticklabels(ax.get_xticklabels(), rotation=40, ha=\"right\")\n",
    "seaborn.despine()"
   ]
  },
  {
   "cell_type": "code",
   "execution_count": 32,
   "metadata": {},
   "outputs": [
    {
     "data": {
      "image/png": "[encoded data removed]",
      "text/plain": [
       "<matplotlib.figure.Figure at 0x7f2d47006310>"
      ]
     },
     "metadata": {},
     "output_type": "display_data"
    }
   ],
   "source": [
    "import matplotlib.pyplot as plt\n",
    "x = range(len(areas))\n",
    "plt.bar(x, fdps)\n",
    "plt.xticks(x, areas, rotation='vertical');"
   ]
  },
  {
   "cell_type": "code",
   "execution_count": null,
   "metadata": {
    "collapsed": true
   },
   "outputs": [],
   "source": []
  }
 ],
 "metadata": {
  "kernelspec": {
   "display_name": "Python [conda env:anaconda3]",
   "language": "python",
   "name": "conda-env-anaconda3-py"
  },
  "language_info": {
   "codemirror_mode": {
    "name": "ipython",
    "version": 3
   },
   "file_extension": ".py",
   "mimetype": "text/x-python",
   "name": "python",
   "nbconvert_exporter": "python",
   "pygments_lexer": "ipython3",
   "version": "3.6.4"
  }
 },
 "nbformat": 4,
 "nbformat_minor": 2
}
